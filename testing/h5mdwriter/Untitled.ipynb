{
 "cells": [
  {
   "cell_type": "code",
   "execution_count": 1,
   "metadata": {},
   "outputs": [],
   "source": [
    "import numpy as np\n",
    "\n",
    "import h5py\n",
    "import os\n",
    "import MDAnalysis as mda\n",
    "from MDAnalysis.coordinates import base, core\n",
    "from MDAnalysisTests.datafiles import TPR_xvf, TRR_xvf, GSD, H5MD_xvf, XTC, DCD, TPR, TRR\n",
    "from MDAnalysis.tests.datafiles import COORDINATES_TRR, COORDINATES_TOPOLOGY, COORDINATES_H5MD"
   ]
  },
  {
   "cell_type": "code",
   "execution_count": 2,
   "metadata": {},
   "outputs": [],
   "source": [
    "u = mda.Universe(TPR_xvf, H5MD_xvf)"
   ]
  },
  {
   "cell_type": "code",
   "execution_count": 3,
   "metadata": {},
   "outputs": [],
   "source": [
    "first_five = u.atoms[:5]"
   ]
  },
  {
   "cell_type": "code",
   "execution_count": null,
   "metadata": {},
   "outputs": [],
   "source": []
  },
  {
   "cell_type": "code",
   "execution_count": null,
   "metadata": {},
   "outputs": [],
   "source": []
  },
  {
   "cell_type": "code",
   "execution_count": 4,
   "metadata": {},
   "outputs": [],
   "source": [
    "with mda.Writer(\"first_five.h5md\", first_five.n_atoms, positions=True, velocities=True, forces=True, units=u.trajectory.units) as W:\n",
    "    for ts in u.trajectory:\n",
    "        W.write(first_five)"
   ]
  },
  {
   "cell_type": "code",
   "execution_count": null,
   "metadata": {},
   "outputs": [],
   "source": []
  }
 ],
 "metadata": {
  "kernelspec": {
   "display_name": "Python 3",
   "language": "python",
   "name": "python3"
  },
  "language_info": {
   "codemirror_mode": {
    "name": "ipython",
    "version": 3
   },
   "file_extension": ".py",
   "mimetype": "text/x-python",
   "name": "python",
   "nbconvert_exporter": "python",
   "pygments_lexer": "ipython3",
   "version": "3.8.3"
  }
 },
 "nbformat": 4,
 "nbformat_minor": 2
}
